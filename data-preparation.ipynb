{
 "cells": [
  {
   "cell_type": "markdown",
   "metadata": {},
   "source": [
    "# Stock Data Preparation Demo\n",
    "\n",
    "Today we will do a simple experiment on a stock prediction case. \n",
    "\n",
    "In order to save time on preparing the data, I'd like to introduce **TuShare**. You can use any other data source if you don't want to deal with Chinese stock market or you are not familiar with Chinese (TuShare's doc is all Chinese). \n",
    "\n",
    "In addition, you can have as many features as you want unless you keep the close price (the one we want to predict!) as the last column in your Pandas DataFrame.\n",
    "\n",
    "**This is just a demo about how to use TuShare and deal with its data. You can find a separate (and simple) script with instructions about fetching more detailed data.**"
   ]
  },
  {
   "cell_type": "code",
   "execution_count": 1,
   "metadata": {},
   "outputs": [
    {
     "name": "stdout",
     "output_type": "stream",
     "text": [
      "0.7.4\n"
     ]
    }
   ],
   "source": [
    "import tushare as ts # TuShare is a utility for crawling historical data of China stocks\n",
    "import pandas as pd\n",
    "\n",
    "print(ts.__version__)"
   ]
  },
  {
   "cell_type": "code",
   "execution_count": 2,
   "metadata": {},
   "outputs": [],
   "source": [
    "stock_index = '600019' # You can enter the stock you are interested in\n",
    "csv_name = 'stock-{}'.format(stock_index)\n",
    "start_date = '2016-01-01'\n",
    "end_date = None # We will use today as the end date here, you can specify one if you want"
   ]
  },
  {
   "cell_type": "code",
   "execution_count": 3,
   "metadata": {},
   "outputs": [
    {
     "name": "stdout",
     "output_type": "stream",
     "text": [
      "[Getting data:]############"
     ]
    },
    {
     "data": {
      "text/html": [
       "<div>\n",
       "<table border=\"1\" class=\"dataframe\">\n",
       "  <thead>\n",
       "    <tr style=\"text-align: right;\">\n",
       "      <th></th>\n",
       "      <th>open</th>\n",
       "      <th>high</th>\n",
       "      <th>close</th>\n",
       "      <th>low</th>\n",
       "      <th>volume</th>\n",
       "      <th>amount</th>\n",
       "    </tr>\n",
       "    <tr>\n",
       "      <th>date</th>\n",
       "      <th></th>\n",
       "      <th></th>\n",
       "      <th></th>\n",
       "      <th></th>\n",
       "      <th></th>\n",
       "      <th></th>\n",
       "    </tr>\n",
       "  </thead>\n",
       "  <tbody>\n",
       "    <tr>\n",
       "      <th>2019-02-01</th>\n",
       "      <td>7.06</td>\n",
       "      <td>7.08</td>\n",
       "      <td>7.07</td>\n",
       "      <td>6.98</td>\n",
       "      <td>29883947.0</td>\n",
       "      <td>210081906.0</td>\n",
       "    </tr>\n",
       "    <tr>\n",
       "      <th>2019-01-31</th>\n",
       "      <td>6.95</td>\n",
       "      <td>7.03</td>\n",
       "      <td>7.01</td>\n",
       "      <td>6.94</td>\n",
       "      <td>38989196.0</td>\n",
       "      <td>272627926.0</td>\n",
       "    </tr>\n",
       "    <tr>\n",
       "      <th>2019-01-30</th>\n",
       "      <td>6.93</td>\n",
       "      <td>7.02</td>\n",
       "      <td>6.94</td>\n",
       "      <td>6.88</td>\n",
       "      <td>30774366.0</td>\n",
       "      <td>213351322.0</td>\n",
       "    </tr>\n",
       "    <tr>\n",
       "      <th>2019-01-29</th>\n",
       "      <td>6.83</td>\n",
       "      <td>6.99</td>\n",
       "      <td>6.97</td>\n",
       "      <td>6.80</td>\n",
       "      <td>43150351.0</td>\n",
       "      <td>297580011.0</td>\n",
       "    </tr>\n",
       "    <tr>\n",
       "      <th>2019-01-28</th>\n",
       "      <td>6.94</td>\n",
       "      <td>7.02</td>\n",
       "      <td>6.85</td>\n",
       "      <td>6.82</td>\n",
       "      <td>44702814.0</td>\n",
       "      <td>309362609.0</td>\n",
       "    </tr>\n",
       "  </tbody>\n",
       "</table>\n",
       "</div>"
      ],
      "text/plain": [
       "            open  high  close   low      volume       amount\n",
       "date                                                        \n",
       "2019-02-01  7.06  7.08   7.07  6.98  29883947.0  210081906.0\n",
       "2019-01-31  6.95  7.03   7.01  6.94  38989196.0  272627926.0\n",
       "2019-01-30  6.93  7.02   6.94  6.88  30774366.0  213351322.0\n",
       "2019-01-29  6.83  6.99   6.97  6.80  43150351.0  297580011.0\n",
       "2019-01-28  6.94  7.02   6.85  6.82  44702814.0  309362609.0"
      ]
     },
     "execution_count": 3,
     "metadata": {},
     "output_type": "execute_result"
    }
   ],
   "source": [
    "df = ts.get_h_data(stock_index, start=start_date, autype=None)\n",
    "df.head()"
   ]
  },
  {
   "cell_type": "code",
   "execution_count": 4,
   "metadata": {},
   "outputs": [
    {
     "data": {
      "text/html": [
       "<div>\n",
       "<table border=\"1\" class=\"dataframe\">\n",
       "  <thead>\n",
       "    <tr style=\"text-align: right;\">\n",
       "      <th></th>\n",
       "      <th>open</th>\n",
       "      <th>high</th>\n",
       "      <th>close</th>\n",
       "      <th>low</th>\n",
       "      <th>volume</th>\n",
       "      <th>amount</th>\n",
       "    </tr>\n",
       "  </thead>\n",
       "  <tbody>\n",
       "    <tr>\n",
       "      <th>0</th>\n",
       "      <td>7.06</td>\n",
       "      <td>7.08</td>\n",
       "      <td>7.07</td>\n",
       "      <td>6.98</td>\n",
       "      <td>29883947.0</td>\n",
       "      <td>210081906.0</td>\n",
       "    </tr>\n",
       "    <tr>\n",
       "      <th>1</th>\n",
       "      <td>6.95</td>\n",
       "      <td>7.03</td>\n",
       "      <td>7.01</td>\n",
       "      <td>6.94</td>\n",
       "      <td>38989196.0</td>\n",
       "      <td>272627926.0</td>\n",
       "    </tr>\n",
       "    <tr>\n",
       "      <th>2</th>\n",
       "      <td>6.93</td>\n",
       "      <td>7.02</td>\n",
       "      <td>6.94</td>\n",
       "      <td>6.88</td>\n",
       "      <td>30774366.0</td>\n",
       "      <td>213351322.0</td>\n",
       "    </tr>\n",
       "    <tr>\n",
       "      <th>3</th>\n",
       "      <td>6.83</td>\n",
       "      <td>6.99</td>\n",
       "      <td>6.97</td>\n",
       "      <td>6.80</td>\n",
       "      <td>43150351.0</td>\n",
       "      <td>297580011.0</td>\n",
       "    </tr>\n",
       "    <tr>\n",
       "      <th>4</th>\n",
       "      <td>6.94</td>\n",
       "      <td>7.02</td>\n",
       "      <td>6.85</td>\n",
       "      <td>6.82</td>\n",
       "      <td>44702814.0</td>\n",
       "      <td>309362609.0</td>\n",
       "    </tr>\n",
       "  </tbody>\n",
       "</table>\n",
       "</div>"
      ],
      "text/plain": [
       "   open  high  close   low      volume       amount\n",
       "0  7.06  7.08   7.07  6.98  29883947.0  210081906.0\n",
       "1  6.95  7.03   7.01  6.94  38989196.0  272627926.0\n",
       "2  6.93  7.02   6.94  6.88  30774366.0  213351322.0\n",
       "3  6.83  6.99   6.97  6.80  43150351.0  297580011.0\n",
       "4  6.94  7.02   6.85  6.82  44702814.0  309362609.0"
      ]
     },
     "execution_count": 4,
     "metadata": {},
     "output_type": "execute_result"
    }
   ],
   "source": [
    "df = df.reset_index(drop=True)\n",
    "df.head()"
   ]
  },
  {
   "cell_type": "markdown",
   "metadata": {},
   "source": [
    "## Change Column Order\n",
    "\n",
    "We will keep 'close' as our last column."
   ]
  },
  {
   "cell_type": "code",
   "execution_count": 5,
   "metadata": {},
   "outputs": [
    {
     "data": {
      "text/plain": [
       "['open', 'high', 'close', 'low', 'volume', 'amount']"
      ]
     },
     "execution_count": 5,
     "metadata": {},
     "output_type": "execute_result"
    }
   ],
   "source": [
    "col_list = df.columns.tolist()\n",
    "col_list"
   ]
  },
  {
   "cell_type": "code",
   "execution_count": 6,
   "metadata": {},
   "outputs": [
    {
     "data": {
      "text/plain": [
       "['open', 'high', 'low', 'volume', 'close']"
      ]
     },
     "execution_count": 6,
     "metadata": {},
     "output_type": "execute_result"
    }
   ],
   "source": [
    "col_list.remove('close')\n",
    "col_list.remove('amount') # Just for simplicity, should not be removed\n",
    "col_list.append('close')\n",
    "col_list"
   ]
  },
  {
   "cell_type": "code",
   "execution_count": 7,
   "metadata": {},
   "outputs": [
    {
     "data": {
      "text/html": [
       "<div>\n",
       "<table border=\"1\" class=\"dataframe\">\n",
       "  <thead>\n",
       "    <tr style=\"text-align: right;\">\n",
       "      <th></th>\n",
       "      <th>open</th>\n",
       "      <th>high</th>\n",
       "      <th>low</th>\n",
       "      <th>volume</th>\n",
       "      <th>close</th>\n",
       "    </tr>\n",
       "  </thead>\n",
       "  <tbody>\n",
       "    <tr>\n",
       "      <th>0</th>\n",
       "      <td>7.06</td>\n",
       "      <td>7.08</td>\n",
       "      <td>6.98</td>\n",
       "      <td>29883947.0</td>\n",
       "      <td>7.07</td>\n",
       "    </tr>\n",
       "    <tr>\n",
       "      <th>1</th>\n",
       "      <td>6.95</td>\n",
       "      <td>7.03</td>\n",
       "      <td>6.94</td>\n",
       "      <td>38989196.0</td>\n",
       "      <td>7.01</td>\n",
       "    </tr>\n",
       "    <tr>\n",
       "      <th>2</th>\n",
       "      <td>6.93</td>\n",
       "      <td>7.02</td>\n",
       "      <td>6.88</td>\n",
       "      <td>30774366.0</td>\n",
       "      <td>6.94</td>\n",
       "    </tr>\n",
       "    <tr>\n",
       "      <th>3</th>\n",
       "      <td>6.83</td>\n",
       "      <td>6.99</td>\n",
       "      <td>6.80</td>\n",
       "      <td>43150351.0</td>\n",
       "      <td>6.97</td>\n",
       "    </tr>\n",
       "    <tr>\n",
       "      <th>4</th>\n",
       "      <td>6.94</td>\n",
       "      <td>7.02</td>\n",
       "      <td>6.82</td>\n",
       "      <td>44702814.0</td>\n",
       "      <td>6.85</td>\n",
       "    </tr>\n",
       "  </tbody>\n",
       "</table>\n",
       "</div>"
      ],
      "text/plain": [
       "   open  high   low      volume  close\n",
       "0  7.06  7.08  6.98  29883947.0   7.07\n",
       "1  6.95  7.03  6.94  38989196.0   7.01\n",
       "2  6.93  7.02  6.88  30774366.0   6.94\n",
       "3  6.83  6.99  6.80  43150351.0   6.97\n",
       "4  6.94  7.02  6.82  44702814.0   6.85"
      ]
     },
     "execution_count": 7,
     "metadata": {},
     "output_type": "execute_result"
    }
   ],
   "source": [
    "df = df[col_list]\n",
    "df.head()"
   ]
  },
  {
   "cell_type": "code",
   "execution_count": 8,
   "metadata": {},
   "outputs": [
    {
     "data": {
      "text/html": [
       "<div>\n",
       "<table border=\"1\" class=\"dataframe\">\n",
       "  <thead>\n",
       "    <tr style=\"text-align: right;\">\n",
       "      <th></th>\n",
       "      <th>open</th>\n",
       "      <th>high</th>\n",
       "      <th>low</th>\n",
       "      <th>volume</th>\n",
       "      <th>close</th>\n",
       "    </tr>\n",
       "  </thead>\n",
       "  <tbody>\n",
       "    <tr>\n",
       "      <th>0</th>\n",
       "      <td>7.06</td>\n",
       "      <td>7.08</td>\n",
       "      <td>6.98</td>\n",
       "      <td>29.883947</td>\n",
       "      <td>7.07</td>\n",
       "    </tr>\n",
       "    <tr>\n",
       "      <th>1</th>\n",
       "      <td>6.95</td>\n",
       "      <td>7.03</td>\n",
       "      <td>6.94</td>\n",
       "      <td>38.989196</td>\n",
       "      <td>7.01</td>\n",
       "    </tr>\n",
       "    <tr>\n",
       "      <th>2</th>\n",
       "      <td>6.93</td>\n",
       "      <td>7.02</td>\n",
       "      <td>6.88</td>\n",
       "      <td>30.774366</td>\n",
       "      <td>6.94</td>\n",
       "    </tr>\n",
       "    <tr>\n",
       "      <th>3</th>\n",
       "      <td>6.83</td>\n",
       "      <td>6.99</td>\n",
       "      <td>6.80</td>\n",
       "      <td>43.150351</td>\n",
       "      <td>6.97</td>\n",
       "    </tr>\n",
       "    <tr>\n",
       "      <th>4</th>\n",
       "      <td>6.94</td>\n",
       "      <td>7.02</td>\n",
       "      <td>6.82</td>\n",
       "      <td>44.702814</td>\n",
       "      <td>6.85</td>\n",
       "    </tr>\n",
       "  </tbody>\n",
       "</table>\n",
       "</div>"
      ],
      "text/plain": [
       "   open  high   low     volume  close\n",
       "0  7.06  7.08  6.98  29.883947   7.07\n",
       "1  6.95  7.03  6.94  38.989196   7.01\n",
       "2  6.93  7.02  6.88  30.774366   6.94\n",
       "3  6.83  6.99  6.80  43.150351   6.97\n",
       "4  6.94  7.02  6.82  44.702814   6.85"
      ]
     },
     "execution_count": 8,
     "metadata": {},
     "output_type": "execute_result"
    }
   ],
   "source": [
    "df['volume'] = df['volume'] / 1000000\n",
    "df.head()"
   ]
  },
  {
   "cell_type": "markdown",
   "metadata": {},
   "source": [
    "## Save Data"
   ]
  },
  {
   "cell_type": "code",
   "execution_count": 9,
   "metadata": {},
   "outputs": [],
   "source": [
    "df.to_csv(csv_name, index=False)"
   ]
  },
  {
   "cell_type": "markdown",
   "metadata": {},
   "source": [
    "Let's have a double check whether the data is saved properly."
   ]
  },
  {
   "cell_type": "code",
   "execution_count": 10,
   "metadata": {},
   "outputs": [
    {
     "data": {
      "text/html": [
       "<div>\n",
       "<table border=\"1\" class=\"dataframe\">\n",
       "  <thead>\n",
       "    <tr style=\"text-align: right;\">\n",
       "      <th></th>\n",
       "      <th>open</th>\n",
       "      <th>high</th>\n",
       "      <th>low</th>\n",
       "      <th>volume</th>\n",
       "      <th>close</th>\n",
       "    </tr>\n",
       "  </thead>\n",
       "  <tbody>\n",
       "    <tr>\n",
       "      <th>0</th>\n",
       "      <td>7.06</td>\n",
       "      <td>7.08</td>\n",
       "      <td>6.98</td>\n",
       "      <td>29.883947</td>\n",
       "      <td>7.07</td>\n",
       "    </tr>\n",
       "    <tr>\n",
       "      <th>1</th>\n",
       "      <td>6.95</td>\n",
       "      <td>7.03</td>\n",
       "      <td>6.94</td>\n",
       "      <td>38.989196</td>\n",
       "      <td>7.01</td>\n",
       "    </tr>\n",
       "    <tr>\n",
       "      <th>2</th>\n",
       "      <td>6.93</td>\n",
       "      <td>7.02</td>\n",
       "      <td>6.88</td>\n",
       "      <td>30.774366</td>\n",
       "      <td>6.94</td>\n",
       "    </tr>\n",
       "    <tr>\n",
       "      <th>3</th>\n",
       "      <td>6.83</td>\n",
       "      <td>6.99</td>\n",
       "      <td>6.80</td>\n",
       "      <td>43.150351</td>\n",
       "      <td>6.97</td>\n",
       "    </tr>\n",
       "    <tr>\n",
       "      <th>4</th>\n",
       "      <td>6.94</td>\n",
       "      <td>7.02</td>\n",
       "      <td>6.82</td>\n",
       "      <td>44.702814</td>\n",
       "      <td>6.85</td>\n",
       "    </tr>\n",
       "  </tbody>\n",
       "</table>\n",
       "</div>"
      ],
      "text/plain": [
       "   open  high   low     volume  close\n",
       "0  7.06  7.08  6.98  29.883947   7.07\n",
       "1  6.95  7.03  6.94  38.989196   7.01\n",
       "2  6.93  7.02  6.88  30.774366   6.94\n",
       "3  6.83  6.99  6.80  43.150351   6.97\n",
       "4  6.94  7.02  6.82  44.702814   6.85"
      ]
     },
     "execution_count": 10,
     "metadata": {},
     "output_type": "execute_result"
    }
   ],
   "source": [
    "validate_df = pd.read_csv(csv_name)\n",
    "validate_df.head()"
   ]
  },
  {
   "cell_type": "markdown",
   "metadata": {
    "collapsed": true
   },
   "source": [
    "**Great, it works!**"
   ]
  },
  {
   "cell_type": "code",
   "execution_count": null,
   "metadata": {},
   "outputs": [],
   "source": []
  }
 ],
 "metadata": {
  "kernelspec": {
   "display_name": "Python 3",
   "language": "python",
   "name": "python3"
  },
  "language_info": {
   "codemirror_mode": {
    "name": "ipython",
    "version": 3
   },
   "file_extension": ".py",
   "mimetype": "text/x-python",
   "name": "python",
   "nbconvert_exporter": "python",
   "pygments_lexer": "ipython3",
   "version": "3.6.6"
  },
  "widgets": {
   "state": {},
   "version": "1.1.2"
  }
 },
 "nbformat": 4,
 "nbformat_minor": 2
}
